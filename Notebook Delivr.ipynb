{
    "metadata": {
        "kernelspec": {
            "name": "SQL",
            "display_name": "SQL",
            "language": "sql"
        },
        "language_info": {
            "name": "sql",
            "version": ""
        }
    },
    "nbformat_minor": 2,
    "nbformat": 4,
    "cells": [
        {
            "cell_type": "markdown",
            "source": [
                "# **BUSINESS REPORT**\n",
                "\n",
                "The analysis for this report was carried out in two parts.\n",
                "\n",
                "1. **Financial Analysis:** which highlights the performance metrics centered around Delivr's finances.\n",
                "2. **Business to Customer Analysis:** this is a more user centric analysis showing the company's performance in relation to customer behaviour."
            ],
            "metadata": {
                "azdata_cell_guid": "b503dd0f-eea0-426d-ad1c-22b45948192c"
            },
            "attachments": {}
        },
        {
            "cell_type": "markdown",
            "source": [
                "## **Finincial Analysis**\n",
                "\n",
                "1. <u>Total Revenue, Cost and Profit</u>"
            ],
            "metadata": {
                "azdata_cell_guid": "3e980687-8bfb-4998-a437-c38b67039681"
            },
            "attachments": {}
        },
        {
            "cell_type": "code",
            "source": [
                "WITH revenue_CTE AS (\r\n",
                "SELECT m.meal_id,\r\n",
                "\t   SUM(meal_price * order_quantity) AS revenue \r\n",
                "FROM meals AS m\r\n",
                "INNER JOIN orders AS o\r\n",
                "\tON m.meal_id = o.meal_id\r\n",
                "GROUP BY m.meal_id),-- revenue per meal\r\n",
                "cost_CTE AS ( -- \r\n",
                "SELECT m.meal_id,\r\n",
                "\t   SUM(meal_cost * stocked_quantity) AS cost\r\n",
                "FROM meals AS m\r\n",
                "INNER JOIN stock AS s\r\n",
                "\tON m.meal_id = s.meal_id\r\n",
                "GROUP BY m.meal_id) -- cost per meal\r\n",
                "SELECT FORMAT(SUM(revenue), 'C') AS total_revenue, -- Format as currency\r\n",
                "\t   FORMAT(SUM(cost), 'C') as total_cost,\r\n",
                "\t   FORMAT(SUM(revenue) -  SUM(cost), 'C') AS total_profit \r\n",
                "FROM revenue_CTE AS r\r\n",
                "INNER JOIN cost_CTE AS c\r\n",
                "\tON r.meal_id = c.meal_id;"
            ],
            "metadata": {
                "azdata_cell_guid": "02db7550-452c-426f-9f04-fb2da66e4709",
                "tags": []
            },
            "outputs": [
                {
                    "output_type": "display_data",
                    "data": {
                        "text/html": "(1 row affected)"
                    },
                    "metadata": {}
                },
                {
                    "output_type": "display_data",
                    "data": {
                        "text/html": "Total execution time: 00:00:00.145"
                    },
                    "metadata": {}
                },
                {
                    "output_type": "execute_result",
                    "execution_count": 1,
                    "data": {
                        "application/vnd.dataresource+json": {
                            "schema": {
                                "fields": [
                                    {
                                        "name": "total_revenue"
                                    },
                                    {
                                        "name": "total_cost"
                                    },
                                    {
                                        "name": "total_profit"
                                    }
                                ]
                            },
                            "data": [
                                {
                                    "0": "$260,226.75",
                                    "1": "$92,133.00",
                                    "2": "$168,093.75"
                                }
                            ]
                        },
                        "text/html": "<table><tr><th>total_revenue</th><th>total_cost</th><th>total_profit</th></tr><tr><td>$260,226.75</td><td>$92,133.00</td><td>$168,093.75</td></tr></table>"
                    },
                    "metadata": {}
                }
            ],
            "execution_count": 1
        },
        {
            "cell_type": "markdown",
            "source": [
                "2. <u>Revenue, Cost and Profit by month</u>"
            ],
            "metadata": {
                "azdata_cell_guid": "5afefdcd-6e81-4eec-9020-3371fa07b64e"
            },
            "attachments": {}
        },
        {
            "cell_type": "code",
            "source": [
                "WITH revenue_CTE AS ( \r\n",
                "SELECT DATENAME(month, order_date) AS month,\r\n",
                "\t   SUM(meal_price * order_quantity) AS revenue \r\n",
                "FROM meals AS m\r\n",
                "INNER JOIN orders AS o\r\n",
                "\tON m.meal_id = o.meal_id\r\n",
                "GROUP BY DATENAME(month,o.order_date)), -- revenue per month\r\n",
                "cost_CTE  AS ( \r\n",
                "SELECT DATENAME(month, stocking_date) AS month,\r\n",
                "\t   DATEPART(month, stocking_date) AS month_number,\r\n",
                "\t   SUM(meal_cost * stocked_quantity) AS cost\r\n",
                "FROM meals AS m\r\n",
                "INNER JOIN stock AS s\r\n",
                "\tON m.meal_id = s.meal_id\r\n",
                "GROUP BY DATENAME(month, stocking_date), DATEPART(month, stocking_date)) -- Cost per month\r\n",
                "SELECT r.month,\r\n",
                "\t   FORMAT(revenue, 'C') AS revenue, -- Format as currency\r\n",
                "\t   FORMAT(cost, 'C') as cost,\r\n",
                "\t   FORMAT(revenue - cost, 'C') AS profit \r\n",
                "FROM revenue_CTE AS r\r\n",
                "INNER JOIN cost_CTE AS c\r\n",
                "\tON r.month = c.month\r\n",
                "ORDER BY c.month_number;"
            ],
            "metadata": {
                "azdata_cell_guid": "93354c60-6688-454b-86df-550838dccabd"
            },
            "outputs": [
                {
                    "output_type": "display_data",
                    "data": {
                        "text/html": "(7 rows affected)"
                    },
                    "metadata": {}
                },
                {
                    "output_type": "display_data",
                    "data": {
                        "text/html": "Total execution time: 00:00:00.471"
                    },
                    "metadata": {}
                },
                {
                    "output_type": "execute_result",
                    "execution_count": 2,
                    "data": {
                        "application/vnd.dataresource+json": {
                            "schema": {
                                "fields": [
                                    {
                                        "name": "month"
                                    },
                                    {
                                        "name": "revenue"
                                    },
                                    {
                                        "name": "cost"
                                    },
                                    {
                                        "name": "profit"
                                    }
                                ]
                            },
                            "data": [
                                {
                                    "0": "June",
                                    "1": "$6,296.25",
                                    "2": "$2,222.75",
                                    "3": "$4,073.50"
                                },
                                {
                                    "0": "July",
                                    "1": "$10,169.75",
                                    "2": "$3,594.25",
                                    "3": "$6,575.50"
                                },
                                {
                                    "0": "August",
                                    "1": "$15,340.00",
                                    "2": "$5,365.75",
                                    "3": "$9,974.25"
                                },
                                {
                                    "0": "September",
                                    "1": "$23,819.50",
                                    "2": "$8,480.00",
                                    "3": "$15,339.50"
                                },
                                {
                                    "0": "October",
                                    "1": "$35,576.25",
                                    "2": "$12,488.75",
                                    "3": "$23,087.50"
                                },
                                {
                                    "0": "November",
                                    "1": "$60,130.00",
                                    "2": "$21,387.00",
                                    "3": "$38,743.00"
                                },
                                {
                                    "0": "December",
                                    "1": "$108,895.00",
                                    "2": "$38,594.50",
                                    "3": "$70,300.50"
                                }
                            ]
                        },
                        "text/html": "<table><tr><th>month</th><th>revenue</th><th>cost</th><th>profit</th></tr><tr><td>June</td><td>$6,296.25</td><td>$2,222.75</td><td>$4,073.50</td></tr><tr><td>July</td><td>$10,169.75</td><td>$3,594.25</td><td>$6,575.50</td></tr><tr><td>August</td><td>$15,340.00</td><td>$5,365.75</td><td>$9,974.25</td></tr><tr><td>September</td><td>$23,819.50</td><td>$8,480.00</td><td>$15,339.50</td></tr><tr><td>October</td><td>$35,576.25</td><td>$12,488.75</td><td>$23,087.50</td></tr><tr><td>November</td><td>$60,130.00</td><td>$21,387.00</td><td>$38,743.00</td></tr><tr><td>December</td><td>$108,895.00</td><td>$38,594.50</td><td>$70,300.50</td></tr></table>"
                    },
                    "metadata": {}
                }
            ],
            "execution_count": 2
        },
        {
            "cell_type": "markdown",
            "source": [
                "3.  <u>Month-Over-Month Analysis for Revenue & Profit</u>\n",
                "\n",
                "Showing the percentage increase/decrease between the previous and current month."
            ],
            "metadata": {
                "azdata_cell_guid": "c73f2201-648f-4f87-bb99-8ea4c0b2c021"
            },
            "attachments": {}
        },
        {
            "cell_type": "code",
            "source": [
                "WITH revenue_CTE AS ( \r\n",
                "SELECT DATENAME(month, order_date) AS month,\r\n",
                "\t   SUM(meal_price * order_quantity) AS revenue \r\n",
                "FROM meals AS m\r\n",
                "INNER JOIN orders AS o\r\n",
                "\tON m.meal_id = o.meal_id\r\n",
                "GROUP BY DATENAME(month,o.order_date)), -- revenue per month\r\n",
                "cost_CTE  AS (  \r\n",
                "SELECT DATENAME(month, stocking_date) AS month,\r\n",
                "\t   DATEPART(month, stocking_date) AS month_number,\r\n",
                "\t   SUM(meal_cost * stocked_quantity) AS cost\r\n",
                "FROM meals AS m\r\n",
                "INNER JOIN stock AS s\r\n",
                "\tON m.meal_id = s.meal_id\r\n",
                "GROUP BY DATENAME(month, stocking_date), DATEPART(month, stocking_date)), -- Cost per month\r\n",
                "MOM_CTE AS (\r\n",
                "SELECT r.month AS month,\r\n",
                "\t   c.month_number AS month_number,\r\n",
                "\t   revenue AS Current_revenue,\r\n",
                "\t   LAG(revenue) OVER(ORDER BY c.month_number) AS previous_revenue,\r\n",
                "\t   revenue - cost AS current_profit,\r\n",
                "\t   LAG(revenue - cost) OVER(ORDER BY c.month_number) AS previous_profit\r\n",
                "FROM revenue_CTE AS r\r\n",
                "INNER JOIN cost_CTE AS c\r\n",
                "\tON r.month = c.month)\r\n",
                "SELECT month,\r\n",
                "\t   ROUND((current_revenue - previous_revenue) / (previous_revenue-1), 2) AS revenue_percent_MOM,\r\n",
                "\t   ROUND((current_profit - previous_profit) / (previous_profit-1), 2) AS profit_percent_MOM\r\n",
                "FROM MOM_CTE\r\n",
                "ORDER BY month_number;"
            ],
            "metadata": {
                "azdata_cell_guid": "8d1991c7-b80a-4bc8-8ed2-bd5c1d6adeaf"
            },
            "outputs": [
                {
                    "output_type": "display_data",
                    "data": {
                        "text/html": "(7 rows affected)"
                    },
                    "metadata": {}
                },
                {
                    "output_type": "display_data",
                    "data": {
                        "text/html": "Total execution time: 00:00:00.372"
                    },
                    "metadata": {}
                },
                {
                    "output_type": "execute_result",
                    "execution_count": 3,
                    "data": {
                        "application/vnd.dataresource+json": {
                            "schema": {
                                "fields": [
                                    {
                                        "name": "month"
                                    },
                                    {
                                        "name": "revenue_percent_MOM"
                                    },
                                    {
                                        "name": "profit_percent_MOM"
                                    }
                                ]
                            },
                            "data": [
                                {
                                    "0": "June",
                                    "1": "NULL",
                                    "2": "NULL"
                                },
                                {
                                    "0": "July",
                                    "1": "0.62",
                                    "2": "0.61"
                                },
                                {
                                    "0": "August",
                                    "1": "0.51",
                                    "2": "0.52"
                                },
                                {
                                    "0": "September",
                                    "1": "0.55",
                                    "2": "0.54"
                                },
                                {
                                    "0": "October",
                                    "1": "0.49",
                                    "2": "0.51"
                                },
                                {
                                    "0": "November",
                                    "1": "0.69",
                                    "2": "0.68"
                                },
                                {
                                    "0": "December",
                                    "1": "0.81",
                                    "2": "0.81"
                                }
                            ]
                        },
                        "text/html": "<table><tr><th>month</th><th>revenue_percent_MOM</th><th>profit_percent_MOM</th></tr><tr><td>June</td><td>NULL</td><td>NULL</td></tr><tr><td>July</td><td>0.62</td><td>0.61</td></tr><tr><td>August</td><td>0.51</td><td>0.52</td></tr><tr><td>September</td><td>0.55</td><td>0.54</td></tr><tr><td>October</td><td>0.49</td><td>0.51</td></tr><tr><td>November</td><td>0.69</td><td>0.68</td></tr><tr><td>December</td><td>0.81</td><td>0.81</td></tr></table>"
                    },
                    "metadata": {}
                }
            ],
            "execution_count": 3
        },
        {
            "cell_type": "markdown",
            "source": [
                "4. <u>Revenue, Cost amd Profit by Eatery</u>\n",
                "\n",
                "Showing eateries arranged in order of profit contribution from most to least."
            ],
            "metadata": {
                "azdata_cell_guid": "a3bee837-0a7f-42ca-88b9-bac6e33b826c"
            },
            "attachments": {}
        },
        {
            "cell_type": "code",
            "source": [
                "WITH revenue_CTE AS ( \r\n",
                "SELECT eatery,\r\n",
                "\t   SUM(meal_price * order_quantity) AS revenue \r\n",
                "FROM meals AS m\r\n",
                "INNER JOIN orders AS o\r\n",
                "\tON m.meal_id = o.meal_id\r\n",
                "GROUP BY eatery), -- revenue per eatery\r\n",
                "cost_CTE  AS ( \r\n",
                "SELECT eatery,\r\n",
                "\t   SUM(meal_cost * stocked_quantity) AS cost\r\n",
                "FROM meals AS m\r\n",
                "INNER JOIN stock AS s\r\n",
                "\tON m.meal_id = s.meal_id\r\n",
                "GROUP BY eatery)   -- Cost per eatery\r\n",
                "SELECT REPLACE(r.eatery, '''', '') AS eatery, -- removing quotes from string\r\n",
                "\t   FORMAT(revenue, 'C') AS revenue, -- Format as currency\r\n",
                "\t   FORMAT(cost, 'C') AS Cost,\r\n",
                "\t   FORMAT(revenue - cost, 'C') AS profit,  \r\n",
                "\t   ROUND((revenue - cost) / SUM(revenue - cost) OVER(),2)  AS profit_percentage\r\n",
                "FROM revenue_CTE AS r\r\n",
                "INNER JOIN cost_CTE AS c\r\n",
                "\tON r.eatery = c.eatery\r\n",
                "ORDER BY profit_percentage DESC; "
            ],
            "metadata": {
                "azdata_cell_guid": "5935a47e-1e51-4ca6-ab14-3372bc4694b5"
            },
            "outputs": [
                {
                    "output_type": "display_data",
                    "data": {
                        "text/html": "(5 rows affected)"
                    },
                    "metadata": {}
                },
                {
                    "output_type": "display_data",
                    "data": {
                        "text/html": "Total execution time: 00:00:00.033"
                    },
                    "metadata": {}
                },
                {
                    "output_type": "execute_result",
                    "execution_count": 2,
                    "data": {
                        "application/vnd.dataresource+json": {
                            "schema": {
                                "fields": [
                                    {
                                        "name": "eatery"
                                    },
                                    {
                                        "name": "revenue"
                                    },
                                    {
                                        "name": "Cost"
                                    },
                                    {
                                        "name": "profit"
                                    },
                                    {
                                        "name": "profit_percentage"
                                    }
                                ]
                            },
                            "data": [
                                {
                                    "0": "Bean Me Up Scotty",
                                    "1": "$60,652.50",
                                    "2": "$13,798.00",
                                    "3": "$46,854.50",
                                    "4": "0.28"
                                },
                                {
                                    "0": "Burgatorio",
                                    "1": "$71,806.25",
                                    "2": "$34,271.75",
                                    "3": "$37,534.50",
                                    "4": "0.22"
                                },
                                {
                                    "0": "The Moon Wok",
                                    "1": "$60,770.50",
                                    "2": "$24,734.00",
                                    "3": "$36,036.50",
                                    "4": "0.21"
                                },
                                {
                                    "0": "Leaning Tower of Pizza",
                                    "1": "$47,702.00",
                                    "2": "$17,009.50",
                                    "3": "$30,692.50",
                                    "4": "0.18"
                                },
                                {
                                    "0": "Life of Pie",
                                    "1": "$19,295.50",
                                    "2": "$2,319.75",
                                    "3": "$16,975.75",
                                    "4": "0.1"
                                }
                            ]
                        },
                        "text/html": "<table><tr><th>eatery</th><th>revenue</th><th>Cost</th><th>profit</th><th>profit_percentage</th></tr><tr><td>Bean Me Up Scotty</td><td>$60,652.50</td><td>$13,798.00</td><td>$46,854.50</td><td>0.28</td></tr><tr><td>Burgatorio</td><td>$71,806.25</td><td>$34,271.75</td><td>$37,534.50</td><td>0.22</td></tr><tr><td>The Moon Wok</td><td>$60,770.50</td><td>$24,734.00</td><td>$36,036.50</td><td>0.21</td></tr><tr><td>Leaning Tower of Pizza</td><td>$47,702.00</td><td>$17,009.50</td><td>$30,692.50</td><td>0.18</td></tr><tr><td>Life of Pie</td><td>$19,295.50</td><td>$2,319.75</td><td>$16,975.75</td><td>0.1</td></tr></table>"
                    },
                    "metadata": {}
                }
            ],
            "execution_count": 2
        },
        {
            "cell_type": "markdown",
            "source": [
                "5. <u>Average revenue per user (ARPU)</u>\n",
                "\n",
                "Showing the average amount each customer pays per month."
            ],
            "metadata": {
                "azdata_cell_guid": "0c50765f-6713-4ef1-8056-f2bd50c0b712"
            },
            "attachments": {}
        },
        {
            "cell_type": "code",
            "source": [
                "WITH revenue_CTE AS (\r\n",
                "SELECT  DATENAME(MONTH, order_date) AS month,\r\n",
                "        DATEPART(MONTH, order_date) AS month_number,\r\n",
                "\t    SUM(meal_price * order_quantity) AS revenue,\r\n",
                "\t\tCOUNT(DISTINCT user_id) AS user_count\r\n",
                "FROM meals AS m\r\n",
                "JOIN orders AS O\r\n",
                "ON m.meal_id = o.meal_id\r\n",
                "GROUP BY DATENAME(MONTH, order_date), DATEPART(MONTH, order_date))\r\n",
                "SELECT month,\r\n",
                "\t   FORMAT(ROUND(revenue / user_count, 2), 'C') AS ARPU -- Format as currency\r\n",
                "FROM revenue_CTE\r\n",
                "ORDER BY month_number;"
            ],
            "metadata": {
                "azdata_cell_guid": "482dd1f5-0825-444a-a5e5-ae64cd2fd670",
                "tags": []
            },
            "outputs": [
                {
                    "output_type": "display_data",
                    "data": {
                        "text/html": "(7 rows affected)"
                    },
                    "metadata": {}
                },
                {
                    "output_type": "display_data",
                    "data": {
                        "text/html": "Total execution time: 00:00:00.174"
                    },
                    "metadata": {}
                },
                {
                    "output_type": "execute_result",
                    "execution_count": 3,
                    "data": {
                        "application/vnd.dataresource+json": {
                            "schema": {
                                "fields": [
                                    {
                                        "name": "month"
                                    },
                                    {
                                        "name": "ARPU"
                                    }
                                ]
                            },
                            "data": [
                                {
                                    "0": "June",
                                    "1": "$51.19"
                                },
                                {
                                    "0": "July",
                                    "1": "$45.00"
                                },
                                {
                                    "0": "August",
                                    "1": "$45.52"
                                },
                                {
                                    "0": "September",
                                    "1": "$48.71"
                                },
                                {
                                    "0": "October",
                                    "1": "$51.63"
                                },
                                {
                                    "0": "November",
                                    "1": "$63.70"
                                },
                                {
                                    "0": "December",
                                    "1": "$85.95"
                                }
                            ]
                        },
                        "text/html": "<table><tr><th>month</th><th>ARPU</th></tr><tr><td>June</td><td>$51.19</td></tr><tr><td>July</td><td>$45.00</td></tr><tr><td>August</td><td>$45.52</td></tr><tr><td>September</td><td>$48.71</td></tr><tr><td>October</td><td>$51.63</td></tr><tr><td>November</td><td>$63.70</td></tr><tr><td>December</td><td>$85.95</td></tr></table>"
                    },
                    "metadata": {}
                }
            ],
            "execution_count": 3
        },
        {
            "cell_type": "markdown",
            "source": [
                "## **Business to Customer Analysis**\n",
                "\n",
                "1. <u>Number of Orders by Month</u>"
            ],
            "metadata": {
                "azdata_cell_guid": "2e503f2c-633e-46cf-8438-1f1e71731f1c"
            },
            "attachments": {}
        },
        {
            "cell_type": "code",
            "source": [
                "SELECT  DATENAME(MONTH, order_date) AS month,\r\n",
                "\t    COUNT(DISTINCT order_id) AS order_count\r\n",
                "FROM meals AS m\r\n",
                "JOIN orders AS O\r\n",
                "ON m.meal_id = o.meal_id\r\n",
                "GROUP BY DATENAME(MONTH, order_date), DATEPART(MONTH, order_date)\r\n",
                "ORDER BY DATEPART(MONTH, order_date);"
            ],
            "metadata": {
                "azdata_cell_guid": "e6dd5f40-e18d-4e72-b448-3c033539b1a8"
            },
            "outputs": [
                {
                    "output_type": "display_data",
                    "data": {
                        "text/html": "(7 rows affected)"
                    },
                    "metadata": {}
                },
                {
                    "output_type": "display_data",
                    "data": {
                        "text/html": "Total execution time: 00:00:00.081"
                    },
                    "metadata": {}
                },
                {
                    "output_type": "execute_result",
                    "execution_count": 4,
                    "data": {
                        "application/vnd.dataresource+json": {
                            "schema": {
                                "fields": [
                                    {
                                        "name": "month"
                                    },
                                    {
                                        "name": "order_count"
                                    }
                                ]
                            },
                            "data": [
                                {
                                    "0": "June",
                                    "1": "282"
                                },
                                {
                                    "0": "July",
                                    "1": "445"
                                },
                                {
                                    "0": "August",
                                    "1": "670"
                                },
                                {
                                    "0": "September",
                                    "1": "1005"
                                },
                                {
                                    "0": "October",
                                    "1": "1549"
                                },
                                {
                                    "0": "November",
                                    "1": "2584"
                                },
                                {
                                    "0": "December",
                                    "1": "4816"
                                }
                            ]
                        },
                        "text/html": "<table><tr><th>month</th><th>order_count</th></tr><tr><td>June</td><td>282</td></tr><tr><td>July</td><td>445</td></tr><tr><td>August</td><td>670</td></tr><tr><td>September</td><td>1005</td></tr><tr><td>October</td><td>1549</td></tr><tr><td>November</td><td>2584</td></tr><tr><td>December</td><td>4816</td></tr></table>"
                    },
                    "metadata": {}
                }
            ],
            "execution_count": 4
        },
        {
            "cell_type": "markdown",
            "source": [
                "2. <u>Top 10 Most Popular Meals</u>"
            ],
            "metadata": {
                "azdata_cell_guid": "b8ab7074-fc6f-47ef-bf74-05e77f2552e2"
            },
            "attachments": {}
        },
        {
            "cell_type": "code",
            "source": [
                "SELECT TOP 10\r\n",
                "\t   REPLACE(eatery, '''', '') AS eatery, -- removing quotes from string\r\n",
                "\t   m.meal_id,\r\n",
                "\t   COUNT(DISTINCT order_id) AS order_count\r\n",
                "FROM meals AS m\r\n",
                "INNER JOIN orders AS o\r\n",
                "\tON m.meal_id = o.meal_id\r\n",
                "GROUP BY eatery, m.meal_id\r\n",
                "ORDER BY order_count DESC;"
            ],
            "metadata": {
                "azdata_cell_guid": "f5333201-db04-44a3-ade3-e6ff6c0b8245"
            },
            "outputs": [
                {
                    "output_type": "display_data",
                    "data": {
                        "text/html": "(10 rows affected)"
                    },
                    "metadata": {}
                },
                {
                    "output_type": "display_data",
                    "data": {
                        "text/html": "Total execution time: 00:00:00.041"
                    },
                    "metadata": {}
                },
                {
                    "output_type": "execute_result",
                    "execution_count": 5,
                    "data": {
                        "application/vnd.dataresource+json": {
                            "schema": {
                                "fields": [
                                    {
                                        "name": "eatery"
                                    },
                                    {
                                        "name": "meal_id"
                                    },
                                    {
                                        "name": "order_count"
                                    }
                                ]
                            },
                            "data": [
                                {
                                    "0": "Life of Pie",
                                    "1": "17",
                                    "2": "1566"
                                },
                                {
                                    "0": "Burgatorio",
                                    "1": "4",
                                    "2": "1562"
                                },
                                {
                                    "0": "Life of Pie",
                                    "1": "18",
                                    "2": "1541"
                                },
                                {
                                    "0": "Bean Me Up Scotty",
                                    "1": "9",
                                    "2": "1535"
                                },
                                {
                                    "0": "Bean Me Up Scotty",
                                    "1": "8",
                                    "2": "1534"
                                },
                                {
                                    "0": "Bean Me Up Scotty",
                                    "1": "11",
                                    "2": "1529"
                                },
                                {
                                    "0": "Leaning Tower of Pizza",
                                    "1": "3",
                                    "2": "1526"
                                },
                                {
                                    "0": "Leaning Tower of Pizza",
                                    "1": "1",
                                    "2": "1518"
                                },
                                {
                                    "0": "Burgatorio",
                                    "1": "5",
                                    "2": "1518"
                                },
                                {
                                    "0": "Bean Me Up Scotty",
                                    "1": "10",
                                    "2": "1514"
                                }
                            ]
                        },
                        "text/html": "<table><tr><th>eatery</th><th>meal_id</th><th>order_count</th></tr><tr><td>Life of Pie</td><td>17</td><td>1566</td></tr><tr><td>Burgatorio</td><td>4</td><td>1562</td></tr><tr><td>Life of Pie</td><td>18</td><td>1541</td></tr><tr><td>Bean Me Up Scotty</td><td>9</td><td>1535</td></tr><tr><td>Bean Me Up Scotty</td><td>8</td><td>1534</td></tr><tr><td>Bean Me Up Scotty</td><td>11</td><td>1529</td></tr><tr><td>Leaning Tower of Pizza</td><td>3</td><td>1526</td></tr><tr><td>Leaning Tower of Pizza</td><td>1</td><td>1518</td></tr><tr><td>Burgatorio</td><td>5</td><td>1518</td></tr><tr><td>Bean Me Up Scotty</td><td>10</td><td>1514</td></tr></table>"
                    },
                    "metadata": {}
                }
            ],
            "execution_count": 5
        },
        {
            "cell_type": "markdown",
            "source": [
                "3. <u>Number of  New Customers per Month</u>"
            ],
            "metadata": {
                "azdata_cell_guid": "6b6062fe-67d0-4b57-b53f-ed55865d3b0f"
            },
            "attachments": {}
        },
        {
            "cell_type": "code",
            "source": [
                "SELECT DATENAME(MONTH, reg_date) AS month,\r\n",
                "\t   COUNT(DISTINCT user_id) AS new_users\r\n",
                "FROM (\r\n",
                "\tSELECT user_id,\r\n",
                "\t\t   MIN(order_date) AS reg_date\r\n",
                "\tFROM meals AS m\r\n",
                "\tINNER JOIN orders AS o\r\n",
                "\t\tON m.meal_id = o.meal_id\r\n",
                "\tGROUP BY user_id) AS subquery\r\n",
                "GROUP BY DATENAME(MONTH, reg_date), DATEPART(MONTH, reg_date)\r\n",
                "ORDER BY DATEPART(MONTH, reg_date);"
            ],
            "metadata": {
                "azdata_cell_guid": "82d5708a-2aa5-4ad6-8fbe-72000c95acf3"
            },
            "outputs": [
                {
                    "output_type": "display_data",
                    "data": {
                        "text/html": "(7 rows affected)"
                    },
                    "metadata": {}
                },
                {
                    "output_type": "display_data",
                    "data": {
                        "text/html": "Total execution time: 00:00:00.168"
                    },
                    "metadata": {}
                },
                {
                    "output_type": "execute_result",
                    "metadata": {},
                    "execution_count": 1,
                    "data": {
                        "application/vnd.dataresource+json": {
                            "schema": {
                                "fields": [
                                    {
                                        "name": "month"
                                    },
                                    {
                                        "name": "new_users"
                                    }
                                ]
                            },
                            "data": [
                                {
                                    "0": "June",
                                    "1": "123"
                                },
                                {
                                    "0": "July",
                                    "1": "140"
                                },
                                {
                                    "0": "August",
                                    "1": "157"
                                },
                                {
                                    "0": "September",
                                    "1": "176"
                                },
                                {
                                    "0": "October",
                                    "1": "199"
                                },
                                {
                                    "0": "November",
                                    "1": "231"
                                },
                                {
                                    "0": "December",
                                    "1": "278"
                                }
                            ]
                        },
                        "text/html": [
                            "<table>",
                            "<tr><th>month</th><th>new_users</th></tr>",
                            "<tr><td>June</td><td>123</td></tr>",
                            "<tr><td>July</td><td>140</td></tr>",
                            "<tr><td>August</td><td>157</td></tr>",
                            "<tr><td>September</td><td>176</td></tr>",
                            "<tr><td>October</td><td>199</td></tr>",
                            "<tr><td>November</td><td>231</td></tr>",
                            "<tr><td>December</td><td>278</td></tr>",
                            "</table>"
                        ]
                    }
                }
            ],
            "execution_count": 1
        },
        {
            "cell_type": "markdown",
            "source": [
                "4. <u>User Activity by Month</u>"
            ],
            "metadata": {
                "azdata_cell_guid": "e20b2494-2a40-4f95-adf1-7b63161a2832"
            },
            "attachments": {}
        },
        {
            "cell_type": "code",
            "source": [
                "SELECT months_active, \r\n",
                "\t   COUNT(user_id) AS user_count\r\n",
                "FROM(\r\n",
                "\tSELECT user_id,\r\n",
                "\t\t   COUNT(DISTINCT (MONTH(order_date))) AS months_active\r\n",
                "FROM orders\r\n",
                "GROUP BY user_id) AS subqery\r\n",
                "GROUP BY months_active\r\n",
                "ORDER BY months_active;"
            ],
            "metadata": {
                "azdata_cell_guid": "ffaa4107-7f1f-4477-84c2-aa5f5c8cc17a"
            },
            "outputs": [
                {
                    "output_type": "display_data",
                    "data": {
                        "text/html": "(7 rows affected)"
                    },
                    "metadata": {}
                },
                {
                    "output_type": "display_data",
                    "data": {
                        "text/html": "Total execution time: 00:00:00.044"
                    },
                    "metadata": {}
                },
                {
                    "output_type": "execute_result",
                    "execution_count": 7,
                    "data": {
                        "application/vnd.dataresource+json": {
                            "schema": {
                                "fields": [
                                    {
                                        "name": "months_active"
                                    },
                                    {
                                        "name": "user_count"
                                    }
                                ]
                            },
                            "data": [
                                {
                                    "0": "1",
                                    "1": "292"
                                },
                                {
                                    "0": "2",
                                    "1": "242"
                                },
                                {
                                    "0": "3",
                                    "1": "247"
                                },
                                {
                                    "0": "4",
                                    "1": "232"
                                },
                                {
                                    "0": "5",
                                    "1": "162"
                                },
                                {
                                    "0": "6",
                                    "1": "83"
                                },
                                {
                                    "0": "7",
                                    "1": "46"
                                }
                            ]
                        },
                        "text/html": "<table><tr><th>months_active</th><th>user_count</th></tr><tr><td>1</td><td>292</td></tr><tr><td>2</td><td>242</td></tr><tr><td>3</td><td>247</td></tr><tr><td>4</td><td>232</td></tr><tr><td>5</td><td>162</td></tr><tr><td>6</td><td>83</td></tr><tr><td>7</td><td>46</td></tr></table>"
                    },
                    "metadata": {}
                }
            ],
            "execution_count": 7
        },
        {
            "cell_type": "markdown",
            "source": [
                "5. <u>Customer Growth Rate by Month</u>\n",
                "\n",
                "Increase in the number of customers from the previous month."
            ],
            "metadata": {
                "azdata_cell_guid": "1434e0bb-e437-466b-b01e-4c90323abd14"
            },
            "attachments": {}
        },
        {
            "cell_type": "code",
            "source": [
                "WITH user_activity AS (\r\n",
                "SELECT order_date,\r\n",
                "       COUNT(user_id) AS user_count\r\n",
                "FROM meals AS m\r\n",
                "INNER JOIN orders AS o\r\n",
                "\tON m.meal_id = o.meal_id\r\n",
                "GROUP by order_date),\r\n",
                "MAU AS ( \r\n",
                "SELECT DATENAME(MONTH, order_date) AS month,\r\n",
                "\t   SUM(user_count) AS Active_users,\r\n",
                "\t   LAG(SUM(user_count)) OVER(ORDER BY DATEPART(MONTH, order_date)) AS previous_month_users\r\n",
                "FROM user_activity\r\n",
                "GROUP BY DATENAME(MONTH, order_date), DATEPART(MONTH, order_date))\r\n",
                "SELECT month,\r\n",
                "\t   Active_users,\r\n",
                "\t   previous_month_users,\r\n",
                "\t   ROUND(CAST((Active_users - previous_month_users) AS float) / previous_month_users, 2) AS growth_rate\r\n",
                "FROM MAU;"
            ],
            "metadata": {
                "azdata_cell_guid": "a56c4da3-8eab-4329-9126-1ad0d544c9be"
            },
            "outputs": [
                {
                    "output_type": "display_data",
                    "data": {
                        "text/html": "(7 rows affected)"
                    },
                    "metadata": {}
                },
                {
                    "output_type": "display_data",
                    "data": {
                        "text/html": "Total execution time: 00:00:00.037"
                    },
                    "metadata": {}
                },
                {
                    "output_type": "execute_result",
                    "execution_count": 8,
                    "data": {
                        "application/vnd.dataresource+json": {
                            "schema": {
                                "fields": [
                                    {
                                        "name": "month"
                                    },
                                    {
                                        "name": "Active_users"
                                    },
                                    {
                                        "name": "previous_month_users"
                                    },
                                    {
                                        "name": "growth_rate"
                                    }
                                ]
                            },
                            "data": [
                                {
                                    "0": "June",
                                    "1": "703",
                                    "2": "NULL",
                                    "3": "NULL"
                                },
                                {
                                    "0": "July",
                                    "1": "1107",
                                    "2": "703",
                                    "3": "0.57"
                                },
                                {
                                    "0": "August",
                                    "1": "1680",
                                    "2": "1107",
                                    "3": "0.52"
                                },
                                {
                                    "0": "September",
                                    "1": "2609",
                                    "2": "1680",
                                    "3": "0.55"
                                },
                                {
                                    "0": "October",
                                    "1": "3929",
                                    "2": "2609",
                                    "3": "0.51"
                                },
                                {
                                    "0": "November",
                                    "1": "6579",
                                    "2": "3929",
                                    "3": "0.67"
                                },
                                {
                                    "0": "December",
                                    "1": "12065",
                                    "2": "6579",
                                    "3": "0.83"
                                }
                            ]
                        },
                        "text/html": "<table><tr><th>month</th><th>Active_users</th><th>previous_month_users</th><th>growth_rate</th></tr><tr><td>June</td><td>703</td><td>NULL</td><td>NULL</td></tr><tr><td>July</td><td>1107</td><td>703</td><td>0.57</td></tr><tr><td>August</td><td>1680</td><td>1107</td><td>0.52</td></tr><tr><td>September</td><td>2609</td><td>1680</td><td>0.55</td></tr><tr><td>October</td><td>3929</td><td>2609</td><td>0.51</td></tr><tr><td>November</td><td>6579</td><td>3929</td><td>0.67</td></tr><tr><td>December</td><td>12065</td><td>6579</td><td>0.83</td></tr></table>"
                    },
                    "metadata": {}
                }
            ],
            "execution_count": 8
        },
        {
            "cell_type": "markdown",
            "source": [
                "6. <u>Customer Retention Rate</u>\n",
                "\n",
                "The number of active users who remained active in the next month."
            ],
            "metadata": {
                "azdata_cell_guid": "87391932-2350-422e-bcce-d140c8931454"
            },
            "attachments": {}
        },
        {
            "cell_type": "code",
            "source": [
                "WITH user_activity AS (\r\n",
                "SELECT DISTINCT CONVERT(DATE, (DATEADD(MONTH, DATEDIFF(MONTH, 0, order_date) , 0))) AS month, -- Truncate date to first day of the month\r\n",
                "\t   user_id\r\n",
                "FROM orders)\r\n",
                "SELECT DATENAME(MONTH, prev.month) AS month,\r\n",
                "\t   COUNT(DISTINCT prev.user_id) AS users, \r\n",
                "\t   COUNT(DISTINCT curr.user_id) AS retained_users, -- Users retained from previous month\r\n",
                "\t   ROUND (CAST(COUNT(DISTINCT curr.user_id) AS FLOAT) /\r\n",
                "\t   COUNT(DISTINCT prev.user_id), 2) AS retention_rate\r\n",
                "FROM user_activity AS prev\r\n",
                "LEFT JOIN user_activity AS curr\r\n",
                "\tON prev.user_id = curr.user_id\r\n",
                "\tAND prev.month = (DATEADD(MONTH, -1, curr.month)) -- Looking one month ahead\r\n",
                "GROUP BY prev.month\r\n",
                "ORDER BY prev.month;"
            ],
            "metadata": {
                "azdata_cell_guid": "415c5a7d-9359-4300-9d05-4df310966400"
            },
            "outputs": [
                {
                    "output_type": "display_data",
                    "data": {
                        "text/html": "Warning: Null value is eliminated by an aggregate or other SET operation."
                    },
                    "metadata": {}
                },
                {
                    "output_type": "display_data",
                    "data": {
                        "text/html": "(7 rows affected)"
                    },
                    "metadata": {}
                },
                {
                    "output_type": "display_data",
                    "data": {
                        "text/html": "Total execution time: 00:00:00.074"
                    },
                    "metadata": {}
                },
                {
                    "output_type": "execute_result",
                    "execution_count": 9,
                    "data": {
                        "application/vnd.dataresource+json": {
                            "schema": {
                                "fields": [
                                    {
                                        "name": "month"
                                    },
                                    {
                                        "name": "users"
                                    },
                                    {
                                        "name": "retained_users"
                                    },
                                    {
                                        "name": "retention_rate"
                                    }
                                ]
                            },
                            "data": [
                                {
                                    "0": "June",
                                    "1": "123",
                                    "2": "86",
                                    "3": "0.7"
                                },
                                {
                                    "0": "July",
                                    "1": "226",
                                    "2": "158",
                                    "3": "0.7"
                                },
                                {
                                    "0": "August",
                                    "1": "337",
                                    "2": "257",
                                    "3": "0.76"
                                },
                                {
                                    "0": "September",
                                    "1": "489",
                                    "2": "404",
                                    "3": "0.83"
                                },
                                {
                                    "0": "October",
                                    "1": "689",
                                    "2": "621",
                                    "3": "0.9"
                                },
                                {
                                    "0": "November",
                                    "1": "944",
                                    "2": "909",
                                    "3": "0.96"
                                },
                                {
                                    "0": "December",
                                    "1": "1267",
                                    "2": "0",
                                    "3": "0"
                                }
                            ]
                        },
                        "text/html": "<table><tr><th>month</th><th>users</th><th>retained_users</th><th>retention_rate</th></tr><tr><td>June</td><td>123</td><td>86</td><td>0.7</td></tr><tr><td>July</td><td>226</td><td>158</td><td>0.7</td></tr><tr><td>August</td><td>337</td><td>257</td><td>0.76</td></tr><tr><td>September</td><td>489</td><td>404</td><td>0.83</td></tr><tr><td>October</td><td>689</td><td>621</td><td>0.9</td></tr><tr><td>November</td><td>944</td><td>909</td><td>0.96</td></tr><tr><td>December</td><td>1267</td><td>0</td><td>0</td></tr></table>"
                    },
                    "metadata": {}
                }
            ],
            "execution_count": 9
        }
    ]
}